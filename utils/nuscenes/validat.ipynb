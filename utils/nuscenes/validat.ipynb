{
 "cells": [
  {
   "cell_type": "code",
   "execution_count": 1,
   "metadata": {},
   "outputs": [
    {
     "name": "stderr",
     "output_type": "stream",
     "text": [
      "/home/esteban/anaconda3/envs/ki/lib/python3.10/site-packages/scipy/__init__.py:155: UserWarning: A NumPy version >=1.18.5 and <1.26.0 is required for this version of SciPy (detected version 1.26.4\n",
      "  warnings.warn(f\"A NumPy version >={np_minversion} and <{np_maxversion}\"\n"
     ]
    },
    {
     "name": "stdout",
     "output_type": "stream",
     "text": [
      "/home/esteban/EDGAR/pseudo_labeling/utils\n",
      "======\n",
      "Loading NuScenes tables for version v1.0-mini...\n",
      "3 category,\n",
      "8 attribute,\n",
      "4 visibility,\n",
      "3 instance,\n",
      "2 sensor,\n",
      "2 calibrated_sensor,\n",
      "1 ego_pose,\n",
      "1 log,\n",
      "1 scene,\n",
      "2 sample,\n",
      "2 sample_data,\n",
      "46 sample_annotation,\n",
      "1 map,\n",
      "Done loading in 0.001 seconds.\n",
      "======\n",
      "Reverse indexing ...\n",
      "Done reverse indexing in 0.0 seconds.\n",
      "======\n",
      "scene-0001, First example scene. [70-01-01 00:28:41]    0s, muenchen, #anns:30\n"
     ]
    },
    {
     "data": {
      "text/plain": [
       "{'token': '9adf87fd-5b99-4af5-b83e-aed5849182d8',\n",
       " 'name': 'scene-0001',\n",
       " 'description': 'First example scene.',\n",
       " 'log_token': '17fb9a25-0b0b-4276-aa1b-e5647a8e1f79',\n",
       " 'nbr_samples': 5,\n",
       " 'first_sample_token': '3ba7d76e-c92b-42b8-a674-eece763e7f50',\n",
       " 'last_sample_token': '986a95b7-baa6-4b7d-934c-9b527882c255',\n",
       " 'timestamp': 1532402928000000}"
      ]
     },
     "execution_count": 1,
     "metadata": {},
     "output_type": "execute_result"
    }
   ],
   "source": [
    "from nuscenes.nuscenes import NuScenes\n",
    "import os\n",
    "print(os.getcwd())\n",
    "nusc = NuScenes(version='v1.0-mini', dataroot='../muenchen', verbose=True)\n",
    "\n",
    "nusc.list_scenes()\n",
    "my_scene = nusc.scene[0]\n",
    "my_scene"
   ]
  },
  {
   "cell_type": "code",
   "execution_count": 2,
   "metadata": {},
   "outputs": [],
   "source": [
    "last_sample_token = my_scene['last_sample_token']\n",
    "my_sample = nusc.get('sample', last_sample_token)\n",
    "#my_sample"
   ]
  },
  {
   "cell_type": "code",
   "execution_count": 4,
   "metadata": {},
   "outputs": [
    {
     "ename": "KeyError",
     "evalue": "'93b2eab4-1757-4a24-9449-364689803bf3'",
     "output_type": "error",
     "traceback": [
      "\u001b[0;31m---------------------------------------------------------------------------\u001b[0m",
      "\u001b[0;31mKeyError\u001b[0m                                  Traceback (most recent call last)",
      "Cell \u001b[0;32mIn[4], line 1\u001b[0m\n\u001b[0;32m----> 1\u001b[0m \u001b[43mnusc\u001b[49m\u001b[38;5;241;43m.\u001b[39;49m\u001b[43mrender_sample_data\u001b[49m\u001b[43m(\u001b[49m\u001b[43mmy_sample\u001b[49m\u001b[43m[\u001b[49m\u001b[38;5;124;43m\"\u001b[39;49m\u001b[38;5;124;43mdata\u001b[39;49m\u001b[38;5;124;43m\"\u001b[39;49m\u001b[43m]\u001b[49m\u001b[43m[\u001b[49m\u001b[38;5;124;43m\"\u001b[39;49m\u001b[38;5;124;43mLIDAR_TOP\u001b[39;49m\u001b[38;5;124;43m\"\u001b[39;49m\u001b[43m]\u001b[49m\u001b[43m)\u001b[49m\n",
      "File \u001b[0;32m~/.local/lib/python3.10/site-packages/nuscenes/nuscenes.py:557\u001b[0m, in \u001b[0;36mNuScenes.render_sample_data\u001b[0;34m(self, sample_data_token, with_anns, box_vis_level, axes_limit, ax, nsweeps, out_path, underlay_map, use_flat_vehicle_coordinates, show_lidarseg, show_lidarseg_legend, filter_lidarseg_labels, lidarseg_preds_bin_path, verbose, show_panoptic)\u001b[0m\n\u001b[1;32m    548\u001b[0m \u001b[38;5;28;01mdef\u001b[39;00m \u001b[38;5;21mrender_sample_data\u001b[39m(\u001b[38;5;28mself\u001b[39m, sample_data_token: \u001b[38;5;28mstr\u001b[39m, with_anns: \u001b[38;5;28mbool\u001b[39m \u001b[38;5;241m=\u001b[39m \u001b[38;5;28;01mTrue\u001b[39;00m,\n\u001b[1;32m    549\u001b[0m                        box_vis_level: BoxVisibility \u001b[38;5;241m=\u001b[39m BoxVisibility\u001b[38;5;241m.\u001b[39mANY, axes_limit: \u001b[38;5;28mfloat\u001b[39m \u001b[38;5;241m=\u001b[39m \u001b[38;5;241m40\u001b[39m, ax: Axes \u001b[38;5;241m=\u001b[39m \u001b[38;5;28;01mNone\u001b[39;00m,\n\u001b[1;32m    550\u001b[0m                        nsweeps: \u001b[38;5;28mint\u001b[39m \u001b[38;5;241m=\u001b[39m \u001b[38;5;241m1\u001b[39m, out_path: \u001b[38;5;28mstr\u001b[39m \u001b[38;5;241m=\u001b[39m \u001b[38;5;28;01mNone\u001b[39;00m, underlay_map: \u001b[38;5;28mbool\u001b[39m \u001b[38;5;241m=\u001b[39m \u001b[38;5;28;01mTrue\u001b[39;00m,\n\u001b[0;32m   (...)\u001b[0m\n\u001b[1;32m    555\u001b[0m                        lidarseg_preds_bin_path: \u001b[38;5;28mstr\u001b[39m \u001b[38;5;241m=\u001b[39m \u001b[38;5;28;01mNone\u001b[39;00m, verbose: \u001b[38;5;28mbool\u001b[39m \u001b[38;5;241m=\u001b[39m \u001b[38;5;28;01mTrue\u001b[39;00m,\n\u001b[1;32m    556\u001b[0m                        show_panoptic: \u001b[38;5;28mbool\u001b[39m \u001b[38;5;241m=\u001b[39m \u001b[38;5;28;01mFalse\u001b[39;00m) \u001b[38;5;241m-\u001b[39m\u001b[38;5;241m>\u001b[39m \u001b[38;5;28;01mNone\u001b[39;00m:\n\u001b[0;32m--> 557\u001b[0m     \u001b[38;5;28;43mself\u001b[39;49m\u001b[38;5;241;43m.\u001b[39;49m\u001b[43mexplorer\u001b[49m\u001b[38;5;241;43m.\u001b[39;49m\u001b[43mrender_sample_data\u001b[49m\u001b[43m(\u001b[49m\u001b[43msample_data_token\u001b[49m\u001b[43m,\u001b[49m\u001b[43m \u001b[49m\u001b[43mwith_anns\u001b[49m\u001b[43m,\u001b[49m\u001b[43m \u001b[49m\u001b[43mbox_vis_level\u001b[49m\u001b[43m,\u001b[49m\u001b[43m \u001b[49m\u001b[43maxes_limit\u001b[49m\u001b[43m,\u001b[49m\u001b[43m \u001b[49m\u001b[43max\u001b[49m\u001b[43m,\u001b[49m\u001b[43m \u001b[49m\u001b[43mnsweeps\u001b[49m\u001b[38;5;241;43m=\u001b[39;49m\u001b[43mnsweeps\u001b[49m\u001b[43m,\u001b[49m\n\u001b[1;32m    558\u001b[0m \u001b[43m                                     \u001b[49m\u001b[43mout_path\u001b[49m\u001b[38;5;241;43m=\u001b[39;49m\u001b[43mout_path\u001b[49m\u001b[43m,\u001b[49m\n\u001b[1;32m    559\u001b[0m \u001b[43m                                     \u001b[49m\u001b[43munderlay_map\u001b[49m\u001b[38;5;241;43m=\u001b[39;49m\u001b[43munderlay_map\u001b[49m\u001b[43m,\u001b[49m\n\u001b[1;32m    560\u001b[0m \u001b[43m                                     \u001b[49m\u001b[43muse_flat_vehicle_coordinates\u001b[49m\u001b[38;5;241;43m=\u001b[39;49m\u001b[43muse_flat_vehicle_coordinates\u001b[49m\u001b[43m,\u001b[49m\n\u001b[1;32m    561\u001b[0m \u001b[43m                                     \u001b[49m\u001b[43mshow_lidarseg\u001b[49m\u001b[38;5;241;43m=\u001b[39;49m\u001b[43mshow_lidarseg\u001b[49m\u001b[43m,\u001b[49m\n\u001b[1;32m    562\u001b[0m \u001b[43m                                     \u001b[49m\u001b[43mshow_lidarseg_legend\u001b[49m\u001b[38;5;241;43m=\u001b[39;49m\u001b[43mshow_lidarseg_legend\u001b[49m\u001b[43m,\u001b[49m\n\u001b[1;32m    563\u001b[0m \u001b[43m                                     \u001b[49m\u001b[43mfilter_lidarseg_labels\u001b[49m\u001b[38;5;241;43m=\u001b[39;49m\u001b[43mfilter_lidarseg_labels\u001b[49m\u001b[43m,\u001b[49m\n\u001b[1;32m    564\u001b[0m \u001b[43m                                     \u001b[49m\u001b[43mlidarseg_preds_bin_path\u001b[49m\u001b[38;5;241;43m=\u001b[39;49m\u001b[43mlidarseg_preds_bin_path\u001b[49m\u001b[43m,\u001b[49m\n\u001b[1;32m    565\u001b[0m \u001b[43m                                     \u001b[49m\u001b[43mverbose\u001b[49m\u001b[38;5;241;43m=\u001b[39;49m\u001b[43mverbose\u001b[49m\u001b[43m,\u001b[49m\n\u001b[1;32m    566\u001b[0m \u001b[43m                                     \u001b[49m\u001b[43mshow_panoptic\u001b[49m\u001b[38;5;241;43m=\u001b[39;49m\u001b[43mshow_panoptic\u001b[49m\u001b[43m)\u001b[49m\n",
      "File \u001b[0;32m~/.local/lib/python3.10/site-packages/nuscenes/nuscenes.py:1293\u001b[0m, in \u001b[0;36mNuScenesExplorer.render_sample_data\u001b[0;34m(self, sample_data_token, with_anns, box_vis_level, axes_limit, ax, nsweeps, out_path, underlay_map, use_flat_vehicle_coordinates, show_lidarseg, show_lidarseg_legend, filter_lidarseg_labels, lidarseg_preds_bin_path, verbose, show_panoptic)\u001b[0m\n\u001b[1;32m   1290\u001b[0m         pc \u001b[38;5;241m=\u001b[39m LidarPointCloud\u001b[38;5;241m.\u001b[39mfrom_file(pcl_path)\n\u001b[1;32m   1291\u001b[0m     \u001b[38;5;28;01melse\u001b[39;00m:\n\u001b[1;32m   1292\u001b[0m         \u001b[38;5;66;03m# Get aggregated lidar point cloud in lidar frame.\u001b[39;00m\n\u001b[0;32m-> 1293\u001b[0m         pc, times \u001b[38;5;241m=\u001b[39m \u001b[43mLidarPointCloud\u001b[49m\u001b[38;5;241;43m.\u001b[39;49m\u001b[43mfrom_file_multisweep\u001b[49m\u001b[43m(\u001b[49m\u001b[38;5;28;43mself\u001b[39;49m\u001b[38;5;241;43m.\u001b[39;49m\u001b[43mnusc\u001b[49m\u001b[43m,\u001b[49m\u001b[43m \u001b[49m\u001b[43msample_rec\u001b[49m\u001b[43m,\u001b[49m\u001b[43m \u001b[49m\u001b[43mchan\u001b[49m\u001b[43m,\u001b[49m\u001b[43m \u001b[49m\u001b[43mref_chan\u001b[49m\u001b[43m,\u001b[49m\n\u001b[1;32m   1294\u001b[0m \u001b[43m                                                         \u001b[49m\u001b[43mnsweeps\u001b[49m\u001b[38;5;241;43m=\u001b[39;49m\u001b[43mnsweeps\u001b[49m\u001b[43m)\u001b[49m\n\u001b[1;32m   1295\u001b[0m     velocities \u001b[38;5;241m=\u001b[39m \u001b[38;5;28;01mNone\u001b[39;00m\n\u001b[1;32m   1296\u001b[0m \u001b[38;5;28;01melse\u001b[39;00m:\n\u001b[1;32m   1297\u001b[0m     \u001b[38;5;66;03m# Get aggregated radar point cloud in reference frame.\u001b[39;00m\n\u001b[1;32m   1298\u001b[0m     \u001b[38;5;66;03m# The point cloud is transformed to the reference frame for visualization purposes.\u001b[39;00m\n",
      "File \u001b[0;32m~/.local/lib/python3.10/site-packages/nuscenes/utils/data_classes.py:130\u001b[0m, in \u001b[0;36mPointCloud.from_file_multisweep\u001b[0;34m(cls, nusc, sample_rec, chan, ref_chan, nsweeps, min_distance)\u001b[0m\n\u001b[1;32m    128\u001b[0m         \u001b[38;5;28;01mbreak\u001b[39;00m\n\u001b[1;32m    129\u001b[0m     \u001b[38;5;28;01melse\u001b[39;00m:\n\u001b[0;32m--> 130\u001b[0m         current_sd_rec \u001b[38;5;241m=\u001b[39m \u001b[43mnusc\u001b[49m\u001b[38;5;241;43m.\u001b[39;49m\u001b[43mget\u001b[49m\u001b[43m(\u001b[49m\u001b[38;5;124;43m'\u001b[39;49m\u001b[38;5;124;43msample_data\u001b[39;49m\u001b[38;5;124;43m'\u001b[39;49m\u001b[43m,\u001b[49m\u001b[43m \u001b[49m\u001b[43mcurrent_sd_rec\u001b[49m\u001b[43m[\u001b[49m\u001b[38;5;124;43m'\u001b[39;49m\u001b[38;5;124;43mprev\u001b[39;49m\u001b[38;5;124;43m'\u001b[39;49m\u001b[43m]\u001b[49m\u001b[43m)\u001b[49m\n\u001b[1;32m    132\u001b[0m \u001b[38;5;28;01mreturn\u001b[39;00m all_pc, all_times\n",
      "File \u001b[0;32m~/.local/lib/python3.10/site-packages/nuscenes/nuscenes.py:216\u001b[0m, in \u001b[0;36mNuScenes.get\u001b[0;34m(self, table_name, token)\u001b[0m\n\u001b[1;32m    208\u001b[0m \u001b[38;5;124;03m\"\"\"\u001b[39;00m\n\u001b[1;32m    209\u001b[0m \u001b[38;5;124;03mReturns a record from table in constant runtime.\u001b[39;00m\n\u001b[1;32m    210\u001b[0m \u001b[38;5;124;03m:param table_name: Table name.\u001b[39;00m\n\u001b[1;32m    211\u001b[0m \u001b[38;5;124;03m:param token: Token of the record.\u001b[39;00m\n\u001b[1;32m    212\u001b[0m \u001b[38;5;124;03m:return: Table record. See README.md for record details for each table.\u001b[39;00m\n\u001b[1;32m    213\u001b[0m \u001b[38;5;124;03m\"\"\"\u001b[39;00m\n\u001b[1;32m    214\u001b[0m \u001b[38;5;28;01massert\u001b[39;00m table_name \u001b[38;5;129;01min\u001b[39;00m \u001b[38;5;28mself\u001b[39m\u001b[38;5;241m.\u001b[39mtable_names, \u001b[38;5;124m\"\u001b[39m\u001b[38;5;124mTable \u001b[39m\u001b[38;5;132;01m{}\u001b[39;00m\u001b[38;5;124m not found\u001b[39m\u001b[38;5;124m\"\u001b[39m\u001b[38;5;241m.\u001b[39mformat(table_name)\n\u001b[0;32m--> 216\u001b[0m \u001b[38;5;28;01mreturn\u001b[39;00m \u001b[38;5;28mgetattr\u001b[39m(\u001b[38;5;28mself\u001b[39m, table_name)[\u001b[38;5;28;43mself\u001b[39;49m\u001b[38;5;241;43m.\u001b[39;49m\u001b[43mgetind\u001b[49m\u001b[43m(\u001b[49m\u001b[43mtable_name\u001b[49m\u001b[43m,\u001b[49m\u001b[43m \u001b[49m\u001b[43mtoken\u001b[49m\u001b[43m)\u001b[49m]\n",
      "File \u001b[0;32m~/.local/lib/python3.10/site-packages/nuscenes/nuscenes.py:225\u001b[0m, in \u001b[0;36mNuScenes.getind\u001b[0;34m(self, table_name, token)\u001b[0m\n\u001b[1;32m    218\u001b[0m \u001b[38;5;28;01mdef\u001b[39;00m \u001b[38;5;21mgetind\u001b[39m(\u001b[38;5;28mself\u001b[39m, table_name: \u001b[38;5;28mstr\u001b[39m, token: \u001b[38;5;28mstr\u001b[39m) \u001b[38;5;241m-\u001b[39m\u001b[38;5;241m>\u001b[39m \u001b[38;5;28mint\u001b[39m:\n\u001b[1;32m    219\u001b[0m     \u001b[38;5;124;03m\"\"\"\u001b[39;00m\n\u001b[1;32m    220\u001b[0m \u001b[38;5;124;03m    This returns the index of the record in a table in constant runtime.\u001b[39;00m\n\u001b[1;32m    221\u001b[0m \u001b[38;5;124;03m    :param table_name: Table name.\u001b[39;00m\n\u001b[1;32m    222\u001b[0m \u001b[38;5;124;03m    :param token: Token of the record.\u001b[39;00m\n\u001b[1;32m    223\u001b[0m \u001b[38;5;124;03m    :return: The index of the record in table, table is an array.\u001b[39;00m\n\u001b[1;32m    224\u001b[0m \u001b[38;5;124;03m    \"\"\"\u001b[39;00m\n\u001b[0;32m--> 225\u001b[0m     \u001b[38;5;28;01mreturn\u001b[39;00m \u001b[38;5;28;43mself\u001b[39;49m\u001b[38;5;241;43m.\u001b[39;49m\u001b[43m_token2ind\u001b[49m\u001b[43m[\u001b[49m\u001b[43mtable_name\u001b[49m\u001b[43m]\u001b[49m\u001b[43m[\u001b[49m\u001b[43mtoken\u001b[49m\u001b[43m]\u001b[49m\n",
      "\u001b[0;31mKeyError\u001b[0m: '93b2eab4-1757-4a24-9449-364689803bf3'"
     ]
    }
   ],
   "source": [
    "nusc.render_sample_data(my_sample[\"data\"][\"LIDAR_TOP\"])"
   ]
  },
  {
   "cell_type": "code",
   "execution_count": 4,
   "metadata": {},
   "outputs": [
    {
     "data": {
      "text/plain": [
       "{'noise': (0, 0, 0),\n",
       " 'animal': (70, 130, 180),\n",
       " 'human.pedestrian.adult': (0, 0, 230),\n",
       " 'human.pedestrian.child': (135, 206, 235),\n",
       " 'human.pedestrian.construction_worker': (100, 149, 237),\n",
       " 'human.pedestrian.personal_mobility': (219, 112, 147),\n",
       " 'human.pedestrian.police_officer': (0, 0, 128),\n",
       " 'human.pedestrian.stroller': (240, 128, 128),\n",
       " 'human.pedestrian.wheelchair': (138, 43, 226),\n",
       " 'movable_object.barrier': (112, 128, 144),\n",
       " 'movable_object.debris': (210, 105, 30),\n",
       " 'movable_object.pushable_pullable': (105, 105, 105),\n",
       " 'movable_object.trafficcone': (47, 79, 79),\n",
       " 'static_object.bicycle_rack': (188, 143, 143),\n",
       " 'vehicle.bicycle': (220, 20, 60),\n",
       " 'vehicle.bus.bendy': (255, 127, 80),\n",
       " 'vehicle.bus.rigid': (255, 69, 0),\n",
       " 'vehicle.car': (255, 158, 0),\n",
       " 'vehicle.construction': (233, 150, 70),\n",
       " 'vehicle.emergency.ambulance': (255, 83, 0),\n",
       " 'vehicle.emergency.police': (255, 215, 0),\n",
       " 'vehicle.motorcycle': (255, 61, 99),\n",
       " 'vehicle.trailer': (255, 140, 0),\n",
       " 'vehicle.truck': (255, 99, 71),\n",
       " 'flat.driveable_surface': (0, 207, 191),\n",
       " 'flat.other': (175, 0, 75),\n",
       " 'flat.sidewalk': (75, 0, 75),\n",
       " 'flat.terrain': (112, 180, 60),\n",
       " 'static.manmade': (222, 184, 135),\n",
       " 'static.other': (255, 228, 196),\n",
       " 'static.vegetation': (0, 175, 0),\n",
       " 'vehicle.ego': (255, 240, 245)}"
      ]
     },
     "execution_count": 4,
     "metadata": {},
     "output_type": "execute_result"
    }
   ],
   "source": [
    "nusc.colormap\n"
   ]
  }
 ],
 "metadata": {
  "kernelspec": {
   "display_name": "ki",
   "language": "python",
   "name": "python3"
  },
  "language_info": {
   "codemirror_mode": {
    "name": "ipython",
    "version": 3
   },
   "file_extension": ".py",
   "mimetype": "text/x-python",
   "name": "python",
   "nbconvert_exporter": "python",
   "pygments_lexer": "ipython3",
   "version": "3.10.6"
  }
 },
 "nbformat": 4,
 "nbformat_minor": 2
}
